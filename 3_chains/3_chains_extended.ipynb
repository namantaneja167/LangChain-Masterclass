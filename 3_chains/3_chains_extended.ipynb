{
 "cells": [
  {
   "cell_type": "code",
   "execution_count": 2,
   "metadata": {},
   "outputs": [
    {
     "name": "stdout",
     "output_type": "stream",
     "text": [
      "Word count: 83\n",
      "HERE WE GO!\n",
      "\n",
      "1. WHY DID THE LAWYER'S DOG GO TO THE VET?\n",
      "\n",
      "BECAUSE IT WAS FEELING A LITTLE \"LAW-SUIT\" AND NEEDED SOME PAWS-ITIVE DIAGNOSIS! (GET IT? LAWSUIT, PAWS-ITIVE... AHH, NEVERMIND!)\n",
      "\n",
      "2. WHY DO LAWYERS MAKE GREAT BAKERS?\n",
      "\n",
      "BECAUSE THEY'RE ALWAYS WHIPPING UP A CASE AGAINST THE COMPETITION!\n",
      "\n",
      "3. WHAT DID THE LAWYER SAY WHEN HIS CLIENT ASKED HIM TO HURRY UP WITH THE DIVORCE PAPERS?\n",
      "\n",
      "\"I'LL GET RIGHT ON THAT... AS SOON AS I FINISH DRAFTING THE NEXT 500 PAGES OF LEGALESE!\"\n"
     ]
    }
   ],
   "source": [
    "from langchain.prompts import ChatPromptTemplate\n",
    "from langchain.schema.output_parser import StrOutputParser\n",
    "from langchain.schema.runnable import RunnableLambda\n",
    "from langchain_community.chat_models import ChatOllama\n",
    "\n",
    "\n",
    "# Create a ChatOpenAI model\n",
    "model = ChatOllama(model=\"llama3:8b\")\n",
    "\n",
    "# Define prompt templates\n",
    "prompt_template = ChatPromptTemplate.from_messages(\n",
    "    [\n",
    "        (\"system\", \"You are a comedian who tells jokes about {topic}.\"),\n",
    "        (\"human\", \"Tell me {joke_count} jokes.\"),\n",
    "    ]\n",
    ")\n",
    "\n",
    "# Define additional processing steps using RunnableLambda\n",
    "uppercase_output = RunnableLambda(lambda x: x.upper())\n",
    "count_words = RunnableLambda(lambda x: f\"Word count: {len(x.split())}\\n{x}\")\n",
    "\n",
    "# Create the combined chain using LangChain Expression Language (LCEL)\n",
    "chain = prompt_template | model | StrOutputParser() | uppercase_output | count_words\n",
    "\n",
    "# Run the chain\n",
    "result = chain.invoke({\"topic\": \"lawyers\", \"joke_count\": 3})\n",
    "\n",
    "# Output\n",
    "print(result)"
   ]
  }
 ],
 "metadata": {
  "kernelspec": {
   "display_name": ".venv",
   "language": "python",
   "name": "python3"
  },
  "language_info": {
   "codemirror_mode": {
    "name": "ipython",
    "version": 3
   },
   "file_extension": ".py",
   "mimetype": "text/x-python",
   "name": "python",
   "nbconvert_exporter": "python",
   "pygments_lexer": "ipython3",
   "version": "3.10.11"
  }
 },
 "nbformat": 4,
 "nbformat_minor": 2
}
