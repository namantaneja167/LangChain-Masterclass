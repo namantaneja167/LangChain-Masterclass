{
 "cells": [
  {
   "cell_type": "code",
   "execution_count": 12,
   "metadata": {},
   "outputs": [],
   "source": [
    "from langchain.prompts import ChatPromptTemplate\n",
    "from langchain.schema.output_parser import StrOutputParser\n",
    "from langchain.schema.runnable import RunnableParallel, RunnableLambda\n",
    "from langchain_community.chat_models import ChatOllama\n",
    "\n",
    "# Create a ChatOpenAI model\n",
    "model = ChatOllama(model=\"llama3:8b\")"
   ]
  },
  {
   "cell_type": "code",
   "execution_count": 13,
   "metadata": {},
   "outputs": [],
   "source": [
    "prompt_template = ChatPromptTemplate.from_messages(\n",
    "    [\n",
    "        (\"system\", \"You are an expert product reviewer.\"),\n",
    "        (\"human\", \"List the main features of the product {product_name}.\"),\n",
    "    ]\n",
    ")\n"
   ]
  },
  {
   "cell_type": "code",
   "execution_count": 14,
   "metadata": {},
   "outputs": [],
   "source": [
    "# Define pros analysis step\n",
    "def analyze_pros(features):\n",
    "    pros_template = ChatPromptTemplate.from_messages(\n",
    "        [\n",
    "            (\"system\", \"You are an expert product reviewer.\"),\n",
    "            (\n",
    "                \"human\",\n",
    "                \"Given these features: {features}, list the pros of these features.\",\n",
    "            ),\n",
    "        ]\n",
    "    )\n",
    "    return pros_template.format_prompt(features=features)\n",
    "\n",
    "\n",
    "# Define cons analysis step\n",
    "def analyze_cons(features):\n",
    "    cons_template = ChatPromptTemplate.from_messages(\n",
    "        [\n",
    "            (\"system\", \"You are an expert product reviewer.\"),\n",
    "            (\n",
    "                \"human\",\n",
    "                \"Given these features: {features}, list the cons of these features.\",\n",
    "            ),\n",
    "        ]\n",
    "    )\n",
    "    return cons_template.format_prompt(features=features)\n"
   ]
  },
  {
   "cell_type": "code",
   "execution_count": 15,
   "metadata": {},
   "outputs": [],
   "source": [
    "# Combine pros and cons into a final review\n",
    "def combine_pros_cons(pros, cons):\n",
    "    return f\"Pros:\\n{pros}\\n\\nCons:\\n{cons}\""
   ]
  },
  {
   "cell_type": "code",
   "execution_count": 16,
   "metadata": {},
   "outputs": [],
   "source": [
    "# Simplify branches with LCEL\n",
    "pros_branch_chain = (\n",
    "    RunnableLambda(lambda x: analyze_pros(x)) | model | StrOutputParser()\n",
    ")\n",
    "\n",
    "cons_branch_chain = (\n",
    "    RunnableLambda(lambda x: analyze_cons(x)) | model | StrOutputParser()\n",
    ")"
   ]
  },
  {
   "cell_type": "code",
   "execution_count": 17,
   "metadata": {},
   "outputs": [],
   "source": [
    "# Create the combined chain using LangChain Expression Language (LCEL)\n",
    "chain = (\n",
    "    prompt_template\n",
    "    | model\n",
    "    | StrOutputParser()\n",
    "    | RunnableParallel(branches={\"pros\": pros_branch_chain, \"cons\": cons_branch_chain})\n",
    "    | RunnableLambda(lambda x: combine_pros_cons(x[\"branches\"][\"pros\"], x[\"branches\"][\"cons\"]))\n",
    ")"
   ]
  },
  {
   "cell_type": "code",
   "execution_count": 18,
   "metadata": {},
   "outputs": [],
   "source": [
    "# Run the chain\n",
    "result = chain.invoke({\"product_name\": \"MacBook Pro\"})"
   ]
  },
  {
   "cell_type": "code",
   "execution_count": 19,
   "metadata": {},
   "outputs": [
    {
     "name": "stdout",
     "output_type": "stream",
     "text": [
      "Pros:\n",
      "Based on the features listed for the MacBook Pro, here are some potential pros:\n",
      "\n",
      "**Display:**\n",
      "\n",
      "* High-resolution display for crisp text and vibrant colors\n",
      "* Ideal for creative professionals who require precise color representation (e.g., graphic designers, photographers)\n",
      "\n",
      "**Processors:**\n",
      "\n",
      "* Exceptional processing power for demanding tasks like video editing, software development, etc.\n",
      "* Enables fast performance for multitasking, making it suitable for professionals who need to work on multiple projects simultaneously\n",
      "\n",
      "**Memory and Storage:**\n",
      "\n",
      "* Ample memory and storage capacity for running multiple apps and files simultaneously without slowing down\n",
      "* Ideal for professionals who require large file sizes (e.g., video editors, software developers)\n",
      "\n",
      "**Graphics:**\n",
      "\n",
      "* Excellent performance for graphics-intensive tasks like gaming, video editing, etc.\n",
      "* Enables smooth rendering of high-resolution images and videos\n",
      "\n",
      "**Battery Life:**\n",
      "\n",
      "* Up to 10 hours of battery life, making it suitable for extended use on the go\n",
      "* Ideal for professionals who need to work remotely or travel frequently\n",
      "\n",
      "**Ports:**\n",
      "\n",
      "* Multiple Thunderbolt 3 (USB-C) ports provide flexibility for connecting devices and peripherals\n",
      "* HDMI port and SD card slot offer additional connectivity options\n",
      "\n",
      "**Touch ID and FaceTime HD Camera:**\n",
      "\n",
      "* Convenient biometric authentication with Touch ID fingerprint recognition\n",
      "* High-definition FaceTime camera ideal for video conferencing, online meetings, and selfies\n",
      "\n",
      "**Thunderbolt 3 (USB-C):**\n",
      "\n",
      "* Enables fast data transfer and charging via Thunderbolt 3 ports\n",
      "* Ideal for professionals who require high-speed data transfer (e.g., software developers, videographers)\n",
      "\n",
      "**Audio:**\n",
      "\n",
      "* High-fidelity audio with a three-mic array ideal for music production, podcasting, and video conferencing\n",
      "* Improved speakers provide clear and crisp sound\n",
      "\n",
      "**Operating System:**\n",
      "\n",
      "* Secure, intuitive, and user-friendly operating system experience with macOS\n",
      "* Ideal for professionals who require a reliable and efficient operating system (e.g., software developers, graphic designers)\n",
      "\n",
      "Cons:\n",
      "Here are the potential cons associated with each feature:\n",
      "\n",
      "1. **Display**:\n",
      "\t* The Retina display might be too dim for some users, especially those who prefer a brighter screen.\n",
      "\t* Some users might find the 2880 x 1800 resolution too low for their needs, especially if they're used to higher resolutions on other devices.\n",
      "\n",
      "2. **Processors**:\n",
      "\t* The Intel Core i9 processor might not be necessary for casual users or those who don't require high-performance processing.\n",
      "\t* Some users might find the heat generated by the processor to be a concern, especially during extended use.\n",
      "\n",
      "3. **Memory and Storage**:\n",
      "\t* 64GB of RAM might be excessive for some users, leading to wasted resources and higher costs.\n",
      "\t* The SSD storage capacity might not be sufficient for users who store large files or require a lot of local storage.\n",
      "\n",
      "4. **Graphics**:\n",
      "\t* Users who prefer NVIDIA graphics cards might find the AMD Radeon Pro option limiting.\n",
      "\t* Some games or applications might not take full advantage of the Intel Iris Plus Graphics or AMD Radeon Pro graphics card, potentially resulting in subpar performance.\n",
      "\n",
      "5. **Battery Life**:\n",
      "\t* The 10-hour battery life might not be sufficient for users who need their laptop to last an entire day without recharging.\n",
      "\t* Some users might find the battery life inconsistent, depending on usage patterns and settings.\n",
      "\n",
      "6. **Ports**:\n",
      "\t* The lack of traditional USB-A ports might be inconvenient for some users who rely on older peripherals or devices.\n",
      "\t* The limited number of Thunderbolt 3 (USB-C) ports might not be sufficient for users who need to connect multiple devices at once.\n",
      "\n",
      "7. **Touch ID and FaceTime HD Camera**:\n",
      "\t* Some users might find the Touch ID fingerprint recognition feature inconvenient, especially if they prefer using passwords or other authentication methods.\n",
      "\t* The FaceTime camera might not provide the same level of image quality as dedicated cameras used for photography or videography.\n",
      "\n",
      "8. **Thunderbolt 3 (USB-C)**:\n",
      "\t* Users who rely on older devices with USB-A ports might find it inconvenient to upgrade to newer USB-C compatible peripherals.\n",
      "\t* Some users might find the lack of traditional USB-A ports limiting, especially if they need to connect multiple devices at once.\n",
      "\n",
      "9. **Audio**:\n",
      "\t* The high-fidelity audio and three-mic array might not be necessary for casual users who don't require professional-grade audio capabilities.\n",
      "\t* Some users might find the audio quality lacking compared to dedicated audio equipment or headphones.\n",
      "\n",
      "10. **Operating System**:\n",
      "\t* Users who prefer other operating systems, such as Windows or Linux, might find macOS limiting in terms of compatibility and customization options.\n",
      "\t* Some users might find the user-friendly interface of macOS too simplistic or restrictive for their needs.\n"
     ]
    }
   ],
   "source": [
    "# Output\n",
    "print(result)"
   ]
  }
 ],
 "metadata": {
  "kernelspec": {
   "display_name": ".venv",
   "language": "python",
   "name": "python3"
  },
  "language_info": {
   "codemirror_mode": {
    "name": "ipython",
    "version": 3
   },
   "file_extension": ".py",
   "mimetype": "text/x-python",
   "name": "python",
   "nbconvert_exporter": "python",
   "pygments_lexer": "ipython3",
   "version": "3.10.11"
  }
 },
 "nbformat": 4,
 "nbformat_minor": 2
}
