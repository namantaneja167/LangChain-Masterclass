{
 "cells": [
  {
   "cell_type": "code",
   "execution_count": 1,
   "metadata": {},
   "outputs": [
    {
     "name": "stdout",
     "output_type": "stream",
     "text": [
      "Here we go!\n",
      "\n",
      "1. Why did the lawyer's dog go to the vet?\n",
      "\n",
      "Because it was feeling a little \"litigious\" and wanted to get to the \"paws-itive\" outcome! (get it? Litigious, like they're always suing someone... ahh, never mind!)\n",
      "\n",
      "2. What did the lawyer say when his client asked him to explain the contract in simple terms?\n",
      "\n",
      "\"I'll try to simplify it for you, but don't worry if it's still confusing – that's what the hourly fees are for!\"\n",
      "\n",
      "3. Why do lawyers make great bakers?\n",
      "\n",
      "Because they're always looking for ways to \"sweeten\" the deal and \"rise\" above the competition! (ba-dum-tss... yeah, I know, it's a real \"stretch\"...)\n",
      "\n",
      "Hope those made you LOL!\n"
     ]
    }
   ],
   "source": [
    "from langchain.prompts import ChatPromptTemplate\n",
    "from langchain.schema.output_parser import StrOutputParser\n",
    "from langchain_community.chat_models import ChatOllama\n",
    "\n",
    "# Create a ChatOpenAI model\n",
    "model = ChatOllama(model=\"llama3:8b\")\n",
    "\n",
    "# Define prompt templates (no need for separate Runnable chains)\n",
    "prompt_template = ChatPromptTemplate.from_messages(\n",
    "    [\n",
    "        (\"system\", \"You are a comedian who tells jokes about {topic}.\"),\n",
    "        (\"human\", \"Tell me {joke_count} jokes.\"),\n",
    "    ]\n",
    ")\n",
    "\n",
    "# Create the combined chain using LangChain Expression Language (LCEL)\n",
    "chain = prompt_template | model | StrOutputParser()\n",
    "# chain = prompt_template | model\n",
    "\n",
    "# Run the chain\n",
    "result = chain.invoke({\"topic\": \"lawyers\", \"joke_count\": 3})\n",
    "\n",
    "# Output\n",
    "print(result)"
   ]
  }
 ],
 "metadata": {
  "kernelspec": {
   "display_name": ".venv",
   "language": "python",
   "name": "python3"
  },
  "language_info": {
   "codemirror_mode": {
    "name": "ipython",
    "version": 3
   },
   "file_extension": ".py",
   "mimetype": "text/x-python",
   "name": "python",
   "nbconvert_exporter": "python",
   "pygments_lexer": "ipython3",
   "version": "3.10.11"
  }
 },
 "nbformat": 4,
 "nbformat_minor": 2
}
