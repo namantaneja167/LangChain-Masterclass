{
 "cells": [
  {
   "cell_type": "code",
   "execution_count": 2,
   "metadata": {},
   "outputs": [
    {
     "name": "stdout",
     "output_type": "stream",
     "text": [
      "AI: Nice to meet you! I'm here to assist and provide helpful information on a wide range of topics. What's on your mind? Do you have a question, need some advice, or want to learn something new? Feel free to ask me anything, and I'll do my best to help you out!\n",
      "---- Message History ----\n",
      "[SystemMessage(content='You are a helpful AI assistant.'), HumanMessage(content=''), AIMessage(content=\"Nice to meet you! I'm here to assist and provide helpful information on a wide range of topics. What's on your mind? Do you have a question, need some advice, or want to learn something new? Feel free to ask me anything, and I'll do my best to help you out!\")]\n"
     ]
    }
   ],
   "source": [
    "from langchain_community.chat_models import ChatOllama\n",
    "from langchain.schema import AIMessage, HumanMessage, SystemMessage\n",
    "\n",
    "# Create a ChatOpenAI model\n",
    "model = ChatOllama(model=\"llama3:8b\")\n",
    "\n",
    "\n",
    "chat_history = []  # Use a list to store messages\n",
    "\n",
    "# Set an initial system message (optional)\n",
    "system_message = SystemMessage(content=\"You are a helpful AI assistant.\")\n",
    "chat_history.append(system_message)  # Add system message to chat history\n",
    "\n",
    "# Chat loop\n",
    "while True:\n",
    "    query = input(\"You: \")\n",
    "    if query.lower() == \"exit\":\n",
    "        break\n",
    "    chat_history.append(HumanMessage(content=query))  # Add user message\n",
    "\n",
    "    # Get AI response using history\n",
    "    result = model.invoke(chat_history)\n",
    "    response = result.content\n",
    "    chat_history.append(AIMessage(content=response))  # Add AI message\n",
    "\n",
    "    print(f\"AI: {response}\")\n",
    "\n",
    "\n",
    "print(\"---- Message History ----\")\n",
    "print(chat_history)"
   ]
  },
  {
   "cell_type": "code",
   "execution_count": 3,
   "metadata": {},
   "outputs": [
    {
     "data": {
      "text/plain": [
       "SystemMessage(content='You are a helpful AI assistant.')"
      ]
     },
     "execution_count": 3,
     "metadata": {},
     "output_type": "execute_result"
    }
   ],
   "source": [
    "SystemMessage(content=\"You are a helpful AI assistant.\")"
   ]
  },
  {
   "cell_type": "code",
   "execution_count": 4,
   "metadata": {},
   "outputs": [
    {
     "data": {
      "text/plain": [
       "[SystemMessage(content='You are a helpful AI assistant.'),\n",
       " HumanMessage(content=''),\n",
       " AIMessage(content=\"Nice to meet you! I'm here to assist and provide helpful information on a wide range of topics. What's on your mind? Do you have a question, need some advice, or want to learn something new? Feel free to ask me anything, and I'll do my best to help you out!\")]"
      ]
     },
     "execution_count": 4,
     "metadata": {},
     "output_type": "execute_result"
    }
   ],
   "source": [
    "chat_history"
   ]
  }
 ],
 "metadata": {
  "kernelspec": {
   "display_name": ".venv",
   "language": "python",
   "name": "python3"
  },
  "language_info": {
   "codemirror_mode": {
    "name": "ipython",
    "version": 3
   },
   "file_extension": ".py",
   "mimetype": "text/x-python",
   "name": "python",
   "nbconvert_exporter": "python",
   "pygments_lexer": "ipython3",
   "version": "3.10.11"
  }
 },
 "nbformat": 4,
 "nbformat_minor": 2
}
