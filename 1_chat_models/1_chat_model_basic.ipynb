{
 "cells": [
  {
   "cell_type": "code",
   "execution_count": 2,
   "metadata": {},
   "outputs": [
    {
     "name": "stdout",
     "output_type": "stream",
     "text": [
      "Full result:\n",
      "content='Easy one!\\n\\n81 divided by 9 is... 9!' response_metadata={'model': 'llama3:8b', 'created_at': '2024-06-27T09:52:07.1524162Z', 'message': {'role': 'assistant', 'content': ''}, 'done_reason': 'stop', 'done': True, 'total_duration': 530122300, 'load_duration': 4829600, 'prompt_eval_duration': 304227000, 'eval_count': 14, 'eval_duration': 215844000} id='run-11ac728e-4a14-4219-ba94-86663af25034-0'\n",
      "Content only:\n",
      "Easy one!\n",
      "\n",
      "81 divided by 9 is... 9!\n"
     ]
    }
   ],
   "source": [
    "# Chat Model Documents: https://python.langchain.com/v0.2/docs/integrations/chat/\n",
    "# ChatOllama Model Documents: https://python.langchain.com/v0.2/docs/integrations/chat/ollama/\n",
    "\n",
    "from langchain_community.chat_models import ChatOllama\n",
    "\n",
    "# Create a ChatOllama model\n",
    "model = ChatOllama(model=\"llama3:8b\")\n",
    "\n",
    "# Invoke the model with a message\n",
    "result = model.invoke(\"What is 81 divided by 9?\")\n",
    "print(\"Full result:\")\n",
    "print(result)\n",
    "print(\"Content only:\")\n",
    "print(result.content)"
   ]
  }
 ],
 "metadata": {
  "kernelspec": {
   "display_name": ".venv",
   "language": "python",
   "name": "python3"
  },
  "language_info": {
   "codemirror_mode": {
    "name": "ipython",
    "version": 3
   },
   "file_extension": ".py",
   "mimetype": "text/x-python",
   "name": "python",
   "nbconvert_exporter": "python",
   "pygments_lexer": "ipython3",
   "version": "3.10.11"
  }
 },
 "nbformat": 4,
 "nbformat_minor": 2
}
