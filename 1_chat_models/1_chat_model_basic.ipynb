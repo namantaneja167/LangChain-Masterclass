{
 "cells": [
  {
   "cell_type": "code",
   "execution_count": 1,
   "metadata": {},
   "outputs": [
    {
     "name": "stdout",
     "output_type": "stream",
     "text": [
      "Full result:\n",
      "content='To calculate the result, we will divide 81 by 9.\\n\\n81 ÷ 9 = 9' response_metadata={'model': 'llama3.1', 'created_at': '2024-07-28T07:44:29.0033955Z', 'message': {'role': 'assistant', 'content': ''}, 'done_reason': 'stop', 'done': True, 'total_duration': 9374396700, 'load_duration': 8969764100, 'prompt_eval_count': 18, 'prompt_eval_duration': 37675000, 'eval_count': 23, 'eval_duration': 353289000} id='run-170f0645-e755-454d-86cc-b594fe10360e-0'\n",
      "Content only:\n",
      "To calculate the result, we will divide 81 by 9.\n",
      "\n",
      "81 ÷ 9 = 9\n"
     ]
    }
   ],
   "source": [
    "# Chat Model Documents: https://python.langchain.com/v0.2/docs/integrations/chat/\n",
    "# ChatOllama Model Documents: https://python.langchain.com/v0.2/docs/integrations/chat/ollama/\n",
    "\n",
    "from langchain_community.chat_models import ChatOllama\n",
    "\n",
    "# Create a ChatOllama model\n",
    "model = ChatOllama(model=\"llama3.1\")\n",
    "\n",
    "# Invoke the model with a message\n",
    "result = model.invoke(\"What is 81 divided by 9?\")\n",
    "print(\"Full result:\")\n",
    "print(result)\n",
    "print(\"Content only:\")\n",
    "print(result.content)"
   ]
  }
 ],
 "metadata": {
  "kernelspec": {
   "display_name": ".venv",
   "language": "python",
   "name": "python3"
  },
  "language_info": {
   "codemirror_mode": {
    "name": "ipython",
    "version": 3
   },
   "file_extension": ".py",
   "mimetype": "text/x-python",
   "name": "python",
   "nbconvert_exporter": "python",
   "pygments_lexer": "ipython3",
   "version": "3.10.11"
  }
 },
 "nbformat": 4,
 "nbformat_minor": 2
}
